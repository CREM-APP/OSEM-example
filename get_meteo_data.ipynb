{
 "cells": [
  {
   "cell_type": "markdown",
   "metadata": {},
   "source": [
    "# Meteorological data"
   ]
  },
  {
   "cell_type": "markdown",
   "metadata": {},
   "source": [
    "This notebook gives an example on how to load meteorological data for a study in Martigny."
   ]
  },
  {
   "cell_type": "markdown",
   "metadata": {},
   "source": [
    "## Load the packages"
   ]
  },
  {
   "cell_type": "code",
   "execution_count": 3,
   "metadata": {
    "collapsed": true
   },
   "outputs": [],
   "source": [
    "import sys\n",
    "import matplotlib.pyplot as plt\n",
    "\n",
    "# when git repository public\n",
    "# !pip install git+..\n",
    "\n",
    "# actuellement\n",
    "mydir = r'W:\\Enerapi\\code\\OSEF'\n",
    "if mydir not in sys.path:\n",
    "    sys.path.append(mydir)\n",
    "from osef.access_data import meteo"
   ]
  },
  {
   "cell_type": "markdown",
   "metadata": {},
   "source": [
    "## Available type of meteorological parameter"
   ]
  },
  {
   "cell_type": "code",
   "execution_count": 4,
   "metadata": {},
   "outputs": [
    {
     "name": "stdout",
     "output_type": "stream",
     "text": [
      "['atmospheric_pressure', 'global_radiation', 'nb_day_precipitation', 'nb_hour_solar_rad', 'precipitations', 'relative_humidity', 'temperature_max', 'temperature_mean', 'temperature_min']\n"
     ]
    }
   ],
   "source": [
    "mymeteo = meteo.Meteo()\n",
    "print(mymeteo.get_meteo_parameter())"
   ]
  },
  {
   "cell_type": "markdown",
   "metadata": {},
   "source": [
    "## Find the closest meteorological station\n",
    "\n",
    "### To obtain the coordinates of your study area - read here\n",
    "In this notebook, the coordinates are in the coordinate system CH1903\\LV95 (not CH1903+!). To get the coordinates in this coordinate system, one can use https://epsg.io/map# or https://tools.retorte.ch/map/"
   ]
  },
  {
   "cell_type": "code",
   "execution_count": 11,
   "metadata": {},
   "outputs": [
    {
     "name": "stdout",
     "output_type": "stream",
     "text": [
      "station_name                  Fey\n",
      "elev_m                        737\n",
      "coordinates_CH    586725 / 115180\n",
      "distance_m                16155.3\n",
      "dtype: object\n"
     ]
    }
   ],
   "source": [
    "coord_my_area = [573325, 106156]  # get them on the site https://epsg.io/map#, check coordinate system!\n",
    "mymeteo = meteo.Meteo()\n",
    "param_met = \"temperature_min\"\n",
    "station = mymeteo.get_closest_station(param_met, coord_my_area, altitude=None, max_alt_diff=None)\n",
    "print(station)"
   ]
  },
  {
   "cell_type": "markdown",
   "metadata": {},
   "source": [
    "## Get the meteorological data "
   ]
  },
  {
   "cell_type": "code",
   "execution_count": 9,
   "metadata": {},
   "outputs": [
    {
     "name": "stdout",
     "output_type": "stream",
     "text": [
      "[-0.4, 0.6, 2.8, 5.6, 9.5, 12.7, 15.1, 14.6, 12.1, 8.4, 3.8, 0.7]\n"
     ]
    }
   ],
   "source": [
    "data_by_month = mymeteo.get_meteo_data_monthly(param_met, station=station[\"station_name\"], months=range(12))\n",
    "print(data_by_month)"
   ]
  },
  {
   "cell_type": "markdown",
   "metadata": {},
   "source": [
    "## Plot this meteorological data\n",
    "List of available colors for the plot: https://matplotlib.org/examples/color/named_colors.html"
   ]
  },
  {
   "cell_type": "code",
   "execution_count": 10,
   "metadata": {},
   "outputs": [
    {
     "data": {
      "image/png": "[encoded data removed]",
      "text/plain": [
       "<matplotlib.figure.Figure at 0x1762e1a9128>"
      ]
     },
     "metadata": {},
     "output_type": "display_data"
    }
   ],
   "source": [
    "unit = mymeteo.get_unit(param_met)\n",
    "\n",
    "plt.figure()\n",
    "plt.bar(range(12), data_by_month, color='b')\n",
    "plt.xlabel(\"Month of the year\")\n",
    "plt.ylabel(param_met + ' [' + unit + ' ]')\n",
    "plt.show()"
   ]
  },
  {
   "cell_type": "code",
   "execution_count": null,
   "metadata": {
    "collapsed": true
   },
   "outputs": [],
   "source": []
  }
 ],
 "metadata": {
  "kernelspec": {
   "display_name": "Python 3",
   "language": "python",
   "name": "python3"
  },
  "language_info": {
   "codemirror_mode": {
    "name": "ipython",
    "version": 3
   },
   "file_extension": ".py",
   "mimetype": "text/x-python",
   "name": "python",
   "nbconvert_exporter": "python",
   "pygments_lexer": "ipython3",
   "version": "3.6.3"
  }
 },
 "nbformat": 4,
 "nbformat_minor": 2
}
