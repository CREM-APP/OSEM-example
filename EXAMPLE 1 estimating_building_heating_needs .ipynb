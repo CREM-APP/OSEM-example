{
 "cells": [
  {
   "cell_type": "markdown",
   "metadata": {},
   "source": [
    "# Compute building energy demand\n",
    "\n",
    "This notebook loads data about a list of building and compute an estimation of their their energy demand based on construction periods."
   ]
  },
  {
   "cell_type": "markdown",
   "metadata": {},
   "source": [
    "## Import and install the necessary modules"
   ]
  },
  {
   "cell_type": "code",
   "execution_count": 14,
   "metadata": {},
   "outputs": [],
   "source": [
    "import pandas as pd\n",
    "import numpy as np\n",
    "import sys\n",
    "\n",
    "!pip install osem\n",
    "from osem.building_demand import SpecificEnergyRequirements\n"
   ]
  },
  {
   "cell_type": "markdown",
   "metadata": {},
   "source": [
    "## Import the data from an excel file"
   ]
  },
  {
   "cell_type": "code",
   "execution_count": 2,
   "metadata": {
    "collapsed": true
   },
   "outputs": [],
   "source": [
    "filename = r'data_example/VillageChampignac.xlsx'\n",
    "data_building = pd.read_excel(filename, index_col=0)\n",
    "# print(data_building)"
   ]
  },
  {
   "cell_type": "markdown",
   "metadata": {},
   "source": [
    "## Pass from year to period code"
   ]
  },
  {
   "cell_type": "code",
   "execution_count": 8,
   "metadata": {
    "collapsed": true
   },
   "outputs": [],
   "source": [
    "def get_period_from_year(year):\n",
    "    \"\"\"\n",
    " This function get the code of the construciton period from the year of construction  \n",
    " :param year: the construction year (int)  \n",
    " :return: the code construction from RegBL\n",
    " \"\"\" \n",
    "    years_start = np.array([1,1919,1946,1961,1971,1981,1986,1991,1996,2001,2006,2011,2015])\n",
    "    codes = range(8011,8024)\n",
    "    ind = np.searchsorted(years_start, year)\n",
    "    return codes[ind-1]"
   ]
  },
  {
   "cell_type": "markdown",
   "metadata": {},
   "source": [
    "## Get energy demand by building"
   ]
  },
  {
   "cell_type": "code",
   "execution_count": 23,
   "metadata": {},
   "outputs": [],
   "source": [
    "# preparation\n",
    "demand_all_building = pd.DataFrame(data=0, columns=['heat', 'total'], index=data_building.index)\n",
    "\n",
    "# take one building after the other and calculate heat/warm water demand\n",
    "for ind, building_here in data_building.iterrows():\n",
    "    period_here = get_period_from_year(building_here[1])\n",
    "    args = {'affectation': 2, 'period':period_here}  # individual house -> affection=2\n",
    "    res = SpecificEnergyRequirements(args).calculate() \n",
    "    demand_all_building.loc[ind, : ] = np.array([res[\"hS\"], res[\"hS\"]+res[\"hW\"]]) * building_here['SRE [m2]']\n",
    "demand_all_building = pd.concat((data_building, demand_all_building), sort=True, axis=1)"
   ]
  },
  {
   "cell_type": "markdown",
   "metadata": {},
   "source": [
    "## Save data into a file"
   ]
  },
  {
   "cell_type": "code",
   "execution_count": 24,
   "metadata": {
    "collapsed": true
   },
   "outputs": [],
   "source": [
    "demand_all_building.to_excel('data_example/DemandChampignac.xlsx')"
   ]
  },
  {
   "cell_type": "code",
   "execution_count": null,
   "metadata": {
    "collapsed": true
   },
   "outputs": [],
   "source": []
  }
 ],
 "metadata": {
  "kernelspec": {
   "display_name": "Python 3",
   "language": "python",
   "name": "python3"
  },
  "language_info": {
   "codemirror_mode": {
    "name": "ipython",
    "version": 3
   },
   "file_extension": ".py",
   "mimetype": "text/x-python",
   "name": "python",
   "nbconvert_exporter": "python",
   "pygments_lexer": "ipython3",
   "version": "3.6.3"
  }
 },
 "nbformat": 4,
 "nbformat_minor": 2
}
