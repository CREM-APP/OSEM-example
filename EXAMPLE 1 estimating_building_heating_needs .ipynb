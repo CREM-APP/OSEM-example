{
 "cells": [
  {
   "cell_type": "markdown",
   "metadata": {},
   "source": [
    "# Compute building energy demand\n",
    "\n",
    "This notebook loads data about a list of building and compute an estimation of their their energy demand based on construction periods."
   ]
  },
  {
   "cell_type": "markdown",
   "metadata": {},
   "source": [
    "## Import and install the necessary modules"
   ]
  },
  {
   "cell_type": "code",
   "execution_count": 13,
   "metadata": {
    "collapsed": true
   },
   "outputs": [],
   "source": [
    "import pandas as pd\n",
    "import numpy as np\n",
    "import sys\n",
    "\n",
    "# !pip install osem2\n",
    "# import osem.building_demand\n",
    "mydir = r'W:\\Enerapi\\code\\OSEM'\n",
    "if mydir not in sys.path:\n",
    "    sys.path.append(mydir)\n",
    "from osem.building_demand import SpecificEnergyRequirements\n"
   ]
  },
  {
   "cell_type": "markdown",
   "metadata": {},
   "source": [
    "## Import the data from an excel file"
   ]
  },
  {
   "cell_type": "code",
   "execution_count": 14,
   "metadata": {},
   "outputs": [],
   "source": [
    "filename = r'data_example/VillageChampignac.xlsx'\n",
    "data_building = pd.read_excel(filename, index_col=0)\n",
    "# print(data_building)"
   ]
  },
  {
   "cell_type": "markdown",
   "metadata": {},
   "source": [
    "## Get energy demand by building"
   ]
  },
  {
   "cell_type": "code",
   "execution_count": 15,
   "metadata": {},
   "outputs": [],
   "source": [
    "# preparation\n",
    "demand_all_building = pd.DataFrame(data=0, columns=['heat', 'total'], index=data_building.index)\n",
    "\n",
    "# take one building after the other and calculate heat/warm water demand\n",
    "for ind, building_here in data_building.iterrows():\n",
    "    args = {'affectation': 2, 'year': building_here['Année de construction']}  # individual house -> affection=2\n",
    "    res = SpecificEnergyRequirements(args).calculate() \n",
    "    demand_all_building.loc[ind, : ] = np.array([res[\"hS\"], res[\"hS\"]+res[\"hW\"]]) * building_here['SRE [m2]']\n",
    "# print(demand_all_building)"
   ]
  },
  {
   "cell_type": "markdown",
   "metadata": {},
   "source": [
    "## Save data into a file"
   ]
  },
  {
   "cell_type": "code",
   "execution_count": 16,
   "metadata": {
    "collapsed": true
   },
   "outputs": [],
   "source": [
    "demand_all_building.to_csv('data_example/DemandChampignac.xlsx')"
   ]
  },
  {
   "cell_type": "code",
   "execution_count": null,
   "metadata": {
    "collapsed": true
   },
   "outputs": [],
   "source": []
  }
 ],
 "metadata": {
  "kernelspec": {
   "display_name": "Python 3",
   "language": "python",
   "name": "python3"
  },
  "language_info": {
   "codemirror_mode": {
    "name": "ipython",
    "version": 3
   },
   "file_extension": ".py",
   "mimetype": "text/x-python",
   "name": "python",
   "nbconvert_exporter": "python",
   "pygments_lexer": "ipython3",
   "version": "3.6.3"
  }
 },
 "nbformat": 4,
 "nbformat_minor": 2
}
