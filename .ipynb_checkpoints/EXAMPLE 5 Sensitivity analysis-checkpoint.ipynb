{
 "cells": [
  {
   "cell_type": "markdown",
   "metadata": {},
   "source": [
    "# Sensitivity analysis: Sobol index"
   ]
  },
  {
   "cell_type": "markdown",
   "metadata": {},
   "source": [
    "This notebook is an example on how to perform a sensitivity analysis using the Python Salib. It does not use the osem module directly. Two methods are applied:\n",
    "\n",
    "* Morris : Morris method is one-a-the-time method. One parameter set is chosen. Then one parameter is moved up or down.  The simulation is performed and outputs are compared. Then, another parameter is changed and a new simulation is performed. When all parameters are tested, theprocedure is redonce with a new parameter set. This is more or less the most instivctive way of doing a sesnitivity analysis, but it does not analyze what happens if two parameters are moved together.\n",
    "* Sobol : The SOBOL method aims to compute the part of the variance Vi in the outputs attributed to each input. This Variance Vi is the sum of the variance in the outputs due to the parameter alone (V1), plus the variance in the outputs due to the interaction between two parameters (V2), plus the variance in the output due to the interaction between three parameters (V3), etc. Vi = V1 + V2 + V3 +...+ Vn. The sobol index are V1/Vi, V2/Vi, ..., Vn/Vi. Generally only first and second-order Sobol parameters are computed (V1/Vi and V2/Vi).\n",
    "\n",
    "\n",
    "More detailed and mathemitical description of the three methods used here are available in https://en.wikipedia.org/wiki/Morris_method and https://en.wikipedia.org/wiki/Variance-based_sensitivity_analysis.\n",
    "\n"
   ]
  },
  {
   "cell_type": "markdown",
   "metadata": {},
   "source": [
    "## Import library and your model\n",
    "The model loaded here is the model on which you want to do the senstivity analysis. It should have a list of inputs as functions arguments and one output.Your model should be a python function. Of course, the python function can just call another model using an other langugage if needed.\n",
    "\n",
    "Here the model is a arbitray function with five inputs: f(x0,..., x5) = x1*x2 + (x3)^2 + np.sin(x4)*x5"
   ]
  },
  {
   "cell_type": "code",
   "execution_count": 20,
   "metadata": {},
   "outputs": [
    {
     "name": "stdout",
     "output_type": "stream",
     "text": [
      "module loaded\n"
     ]
    }
   ],
   "source": [
    "# uncomment if salib is not installed\n",
    "# !pip install salib\n",
    "from SALib import sample\n",
    "from SALib.analyze import analyze\n",
    "import numpy as np\n",
    "\n",
    "from model_for_sensitivity import my_model\n",
    "print('module loaded')"
   ]
  },
  {
   "cell_type": "markdown",
   "metadata": {},
   "source": [
    "## Define your simulation problem\n",
    "So this is creating a disctionnary which will provide SAlib with the necessary info (on which variable to d the sensitivity analysis and the bound of the parameter. Here we assume than x5 has no uncertainties and we choose bounds for each parameters."
   ]
  },
  {
   "cell_type": "code",
   "execution_count": 38,
   "metadata": {
    "collapsed": true
   },
   "outputs": [],
   "source": [
    "myproblem = {\n",
    "'num_vars': 4,\n",
    "'names': ['x1', 'x2', 'x3', 'x4'],\n",
    "'bounds': [[0, 1],[0, 1],[-0.5, 0.5],[0.1, 0.4]]\n",
    "}\n",
    "x5=5"
   ]
  },
  {
   "cell_type": "markdown",
   "metadata": {},
   "source": [
    " ## Create sample\n",
    "To perform a sensitivity analysis, we need different parameter sets on which to test our model. This part create parameter sets for two methods used here."
   ]
  },
  {
   "cell_type": "code",
   "execution_count": 42,
   "metadata": {},
   "outputs": [],
   "source": [
    "num_set = 10000\n",
    "param_set_sobol = sample.saltelli.sample(myproblem, num_set)\n",
    "param_set_morris = sample.morris.sample(myproblem, num_set)"
   ]
  },
  {
   "cell_type": "markdown",
   "metadata": {},
   "source": [
    "## Perform the analysis\n",
    "Now we actually run the model for the different parameter sets and the module computes the different sensitivity indices."
   ]
  },
  {
   "cell_type": "code",
   "execution_count": 43,
   "metadata": {},
   "outputs": [],
   "source": [
    "\n",
    "# Sobol\n",
    "Y = np.zeros([param_set_sobol.shape[0]])\n",
    "for i, X in enumerate(param_set_sobol):\n",
    "    Y[i] = my_model(*X, x5)\n",
    "Si = analyze.sobol.analyze(myproblem, Y)\n",
    "\n",
    "# Morris\n",
    "Y2 = np.zeros([param_set_morris.shape[0]])\n",
    "for i, X in enumerate(param_set_morris):\n",
    "    Y2[i] = my_model(*X, x5)\n",
    "Mi = analyze.morris.analyze(myproblem, param_set_morris, Y2)\n"
   ]
  },
  {
   "cell_type": "markdown",
   "metadata": {},
   "source": [
    "## Make some plots to present the results\n",
    "\n",
    "We see than x4 is the most important parameters (which makes sense as we multiply it by x5=5) and that [x1,x2] have interactions with each other as the total sobol index is not equal to the first-level sobol index."
   ]
  },
  {
   "cell_type": "code",
   "execution_count": 53,
   "metadata": {},
   "outputs": [
    {
     "data": {
      "image/png": "[encoded data removed]",
      "text/plain": [
       "<matplotlib.figure.Figure at 0x1c7610515f8>"
      ]
     },
     "metadata": {},
     "output_type": "display_data"
    },
    {
     "data": {
      "image/png": "[encoded data removed]",
      "text/plain": [
       "<matplotlib.figure.Figure at 0x1c761032c18>"
      ]
     },
     "metadata": {},
     "output_type": "display_data"
    }
   ],
   "source": [
    "import matplotlib.pyplot as plt\n",
    "\n",
    "# sobol\n",
    "plt.figure()\n",
    "plt.title('Sobol index')\n",
    "width = 0.4\n",
    "plt.bar(np.arange(4), Si['S1'], width=width, label='First order')\n",
    "plt.bar(np.arange(4)+width, Si['ST'], width=width, label='Total')\n",
    "plt.xticks(np.arange(4)+width/2, ['x1', 'x2', 'x3', 'x4'])\n",
    "plt.ylabel('Sobol index')\n",
    "plt.xlabel('Parameters')\n",
    "plt.legend()\n",
    "\n",
    "# morris\n",
    "plt.figure()\n",
    "plt.title('Morris index')\n",
    "plt.bar(np.arange(4), Mi['mu'], label='elementary effect')\n",
    "plt.xticks(np.arange(4), ['x1', 'x2', 'x3', 'x4'])\n",
    "plt.ylabel('Morris index')\n",
    "plt.xlabel('Parameters')\n",
    "plt.legend()\n",
    "\n",
    "plt.show()\n"
   ]
  },
  {
   "cell_type": "code",
   "execution_count": null,
   "metadata": {
    "collapsed": true
   },
   "outputs": [],
   "source": []
  }
 ],
 "metadata": {
  "kernelspec": {
   "display_name": "Python 3",
   "language": "python",
   "name": "python3"
  },
  "language_info": {
   "codemirror_mode": {
    "name": "ipython",
    "version": 3
   },
   "file_extension": ".py",
   "mimetype": "text/x-python",
   "name": "python",
   "nbconvert_exporter": "python",
   "pygments_lexer": "ipython3",
   "version": "3.6.3"
  }
 },
 "nbformat": 4,
 "nbformat_minor": 2
}
