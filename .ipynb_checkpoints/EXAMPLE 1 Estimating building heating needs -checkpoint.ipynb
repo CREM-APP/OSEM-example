{
 "cells": [
  {
   "cell_type": "markdown",
   "metadata": {},
   "source": [
    "# Compute building energy demand\n",
    "\n",
    "This notebook loads data about a list of building and compute an estimation of their their energy demand based on construction periods."
   ]
  },
  {
   "cell_type": "markdown",
   "metadata": {},
   "source": [
    "## Import the necessary modules"
   ]
  },
  {
   "cell_type": "code",
   "execution_count": 5,
   "metadata": {
    "collapsed": true
   },
   "outputs": [],
   "source": [
    "import pandas as pd\n",
    "import sys\n",
    "\n",
    "# actuellement\n",
    "mydir = r'W:\\Enerapi\\code\\OSEM'\n",
    "if mydir not in sys.path:\n",
    "    sys.path.append(mydir)\n",
    "from osem.building_demand import SpecificEnergyRequirements\n"
   ]
  },
  {
   "cell_type": "markdown",
   "metadata": {},
   "source": [
    "## Import data in an excel files"
   ]
  },
  {
   "cell_type": "code",
   "execution_count": 12,
   "metadata": {},
   "outputs": [],
   "source": [
    "filename = r'data_example/VillageChampignac.xlsx'\n",
    "data_building = pd.read_excel(filename, index_col=0)"
   ]
  },
  {
   "cell_type": "markdown",
   "metadata": {},
   "source": [
    "## Get energy demand by building"
   ]
  },
  {
   "cell_type": "code",
   "execution_count": null,
   "metadata": {
    "collapsed": true
   },
   "outputs": [],
   "source": [
    "# preparation\n",
    "mydemand = SpecificEnergyRequirements()\n",
    "demand_all_building = pd.DataFrame(data=0, columns=['heat', 'ECS', 'total'], index=data_building.index)\n",
    "\n",
    "# take one building after the other and calculate heat/warm water demand\n",
    "for ind, building_here in data_building.iterrows():\n",
    "    args = {affectation: 2, year: building_here['Année de construction']}  # individual house -> affection=2\n",
    "    res = mydemand.calculate(args) * building_here['SRE']\n",
    "    demand_all_building.loc[ind, : ] = [res[\"hS\"],res[\"hW\"],res[\"hS\"]+res[\"hW\"]]"
   ]
  },
  {
   "cell_type": "markdown",
   "metadata": {},
   "source": [
    "## Save data into a file"
   ]
  },
  {
   "cell_type": "code",
   "execution_count": null,
   "metadata": {
    "collapsed": true
   },
   "outputs": [],
   "source": [
    "demand_all_building.to_csv('DemandChampignac.xlsx')"
   ]
  }
 ],
 "metadata": {
  "kernelspec": {
   "display_name": "Python 3",
   "language": "python",
   "name": "python3"
  },
  "language_info": {
   "codemirror_mode": {
    "name": "ipython",
    "version": 3
   },
   "file_extension": ".py",
   "mimetype": "text/x-python",
   "name": "python",
   "nbconvert_exporter": "python",
   "pygments_lexer": "ipython3",
   "version": "3.6.3"
  }
 },
 "nbformat": 4,
 "nbformat_minor": 2
}
