{
 "cells": [
  {
   "cell_type": "markdown",
   "metadata": {},
   "source": [
    " # C02 emissions from different heating technology - Plot\n",
    "------------------------------------------------------------------------------------------------"
   ]
  },
  {
   "cell_type": "markdown",
   "metadata": {},
   "source": [
    "\n",
    "## Read me\n",
    "\n",
    "This notebook creates a basis for plotting C02 emissions from the kbob that can be modified based on current needs.\n",
    "\n",
    "The input is the useful energy consumed in the study area by different technology for all scenarios in kWh. The data can contained in a csv or a excel file. In both cases, the data forms a tabular with the following columns: scenario, year, technology 1, technology 2, technology 3...  The technology are the technology available in the kbob.\n",
    "\n",
    "Name must be given in english. Fuzzy matching is used to find the selected technology.\n",
    "\n",
    "### Example Data (in kWh)\n",
    "\n",
    "| Scenario | Year  | Boiler Oil  | Boiler Gas   | Air-Water Heat pump  |\n",
    "|------|------|------|------|------|\n",
    "|   BAU | 2000| 1345| 1345|0|\n",
    "|   BAU | 2025| 1545| 1545|0|\n",
    "|   BAU | 2000| 1645| 1645|0|\n",
    "|  sce 1 | 2000| 0| 1345|1345|\n",
    "|  sce 1| 2025| 0| 1545|1545|\n",
    "|  sce 1 | 2000|0| 1645|1645|\n",
    "|  sce 2 | 2000| 1000| 1045|645|\n",
    "|  sce 2| 2025| 1000| 1345|745|\n",
    "|  sce 2 | 2000|1000| 1445|845|\n",
    "\n"
   ]
  },
  {
   "cell_type": "markdown",
   "metadata": {},
   "source": [
    "## Load the necessary modules"
   ]
  },
  {
   "cell_type": "code",
   "execution_count": 1,
   "metadata": {
    "collapsed": true
   },
   "outputs": [],
   "source": [
    "import pandas as pd\n",
    "import numpy as np\n",
    "import os\n",
    "import sys\n",
    "\n",
    "# when git repository public\n",
    "# !pip install git+..\n",
    "\n",
    "# actuellement\n",
    "mydir = r'W:\\Enerapi\\code\\OSEF'\n",
    "if mydir not in sys.path:\n",
    "    sys.path.append(mydir)\n",
    "from osef.plot import plot_kpi\n",
    "from osef.access_data import kbob"
   ]
  },
  {
   "cell_type": "markdown",
   "metadata": {},
   "source": [
    "## List of available technologies"
   ]
  },
  {
   "cell_type": "code",
   "execution_count": 2,
   "metadata": {},
   "outputs": [
    {
     "name": "stdout",
     "output_type": "stream",
     "text": [
      "['Boiler oil EL', 'Boiler gas', 'Boiler propane / butane', 'Boiler coal coke', 'Boiler coal briquette', 'Boiler firewood', 'Boiler firewood with particle filter', 'Boiler wood chips', 'Boiler wood chips with particle filter', 'Boiler pellets', 'Boiler pellets with particle filter', 'Boiler biogas', 'Electric air-water heat pump (COPA 2.8)', 'Electric Heat Pump Geothermal Probes (COPA 3.9)', 'Groundwater Electric Heat Pump (COPA 3.4)', 'Flat solar collectors - hot water individual house', 'Flat solar collectors - heat and hot water - individual house', 'Solar collectors plan - hot water rental building', 'Solar collectors with tubes - heat and hot water - individual house', 'Cogeneration (CHP) plant - small - gas', 'Cogeneration (CHP) plant - small gas']\n"
     ]
    }
   ],
   "source": [
    "mykbob = kbob.Kbob()\n",
    "print(mykbob.get_available_technologies(language=\"ENG\", ener_type='useful'))"
   ]
  },
  {
   "cell_type": "markdown",
   "metadata": {},
   "source": [
    "## Input"
   ]
  },
  {
   "cell_type": "code",
   "execution_count": 6,
   "metadata": {
    "collapsed": true
   },
   "outputs": [],
   "source": [
    "\n",
    "# name of the file and plot (with the correct path!)\n",
    "filename = 'data_example/kpi_example_c02.xlsx'\n",
    "plot_filename = 'my_plot.png'"
   ]
  },
  {
   "cell_type": "markdown",
   "metadata": {},
   "source": [
    "## Load data"
   ]
  },
  {
   "cell_type": "code",
   "execution_count": 8,
   "metadata": {
    "collapsed": true
   },
   "outputs": [],
   "source": [
    "print()\n",
    "# load excel or csv\n",
    "if 'xls' in os.path.splitext(filename)[1]:\n",
    "    data = pd.read_excel(filename)\n",
    "else:\n",
    "    data = pd.read_csv(filename)\n",
    "    "
   ]
  },
  {
   "cell_type": "markdown",
   "metadata": {},
   "source": [
    "## Options for the plot\n",
    "List of available colors for the plot: https://matplotlib.org/examples/color/named_colors.html"
   ]
  },
  {
   "cell_type": "code",
   "execution_count": 9,
   "metadata": {
    "collapsed": true
   },
   "outputs": [],
   "source": [
    "width = 0.22\n",
    "fontsize = 10\n",
    "color = ['rosybrown', 'firebrick', 'darksalmon']\n",
    "title_name = 'CO$_{2}$ emission'\n",
    "xlabel = 'Time [years]'"
   ]
  },
  {
   "cell_type": "markdown",
   "metadata": {},
   "source": [
    "## Do the plot and save it"
   ]
  },
  {
   "cell_type": "code",
   "execution_count": 11,
   "metadata": {},
   "outputs": [
    {
     "data": {
      "image/png": "[encoded data removed]",
      "text/plain": [
       "<matplotlib.figure.Figure at 0x187e0e75e80>"
      ]
     },
     "metadata": {},
     "output_type": "display_data"
    }
   ],
   "source": [
    "plot_kpi.plot_c02(data, plot_filename, title_name=title_name, xlabel=xlabel, width=width, show=True, color=color)"
   ]
  },
  {
   "cell_type": "code",
   "execution_count": null,
   "metadata": {
    "collapsed": true
   },
   "outputs": [],
   "source": []
  },
  {
   "cell_type": "code",
   "execution_count": null,
   "metadata": {
    "collapsed": true
   },
   "outputs": [],
   "source": []
  }
 ],
 "metadata": {
  "kernelspec": {
   "display_name": "Python 3",
   "language": "python",
   "name": "python3"
  },
  "language_info": {
   "codemirror_mode": {
    "name": "ipython",
    "version": 3
   },
   "file_extension": ".py",
   "mimetype": "text/x-python",
   "name": "python",
   "nbconvert_exporter": "python",
   "pygments_lexer": "ipython3",
   "version": "3.6.3"
  }
 },
 "nbformat": 4,
 "nbformat_minor": 2
}
